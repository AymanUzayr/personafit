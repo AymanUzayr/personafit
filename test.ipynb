{
 "cells": [
  {
   "cell_type": "code",
   "execution_count": 1,
   "id": "11567fd8",
   "metadata": {},
   "outputs": [
    {
     "name": "stdout",
     "output_type": "stream",
     "text": [
      "[11100000, 'Unnamed: 1', 'Unnamed: 2', 'Unnamed: 3', 'Unnamed: 4', 'Unnamed: 5', 4.83, 4.88, 0, 2.14, 1.249, 0.458, 0.07, 9, 57, 58, '0.1', 4, '0.2', '0.3', '0.4', 0.057, 0.137, 0.11, 0.061, '0.5', 1, '1.1', '1.2', 17.9, 0.56, '0.6', 0.1, 1.1, 0.03, '0.7', 0.2, 125, 103, 12, '0.8', 0.43, 0.001, 1.9, 156, 39, '0.9', '0.10', '0.11', 0.046, 0.036, 0.023, 0.056, 0.065, 0.204, 0.576, 0.208, 0.032, 0.465, 0.002, '0.12', 0.074, 0.008, '0.13', 0.003, '0.14', '0.001.1', '0.15', 88.92]\n"
     ]
    }
   ],
   "source": [
    "import pandas as pd\n",
    "df = pd.read_excel(\"fndds_nutrient_values.xlsx\")\n",
    "print(df.columns.tolist())"
   ]
  }
 ],
 "metadata": {
  "kernelspec": {
   "display_name": "personafit",
   "language": "python",
   "name": "python3"
  },
  "language_info": {
   "codemirror_mode": {
    "name": "ipython",
    "version": 3
   },
   "file_extension": ".py",
   "mimetype": "text/x-python",
   "name": "python",
   "nbconvert_exporter": "python",
   "pygments_lexer": "ipython3",
   "version": "3.12.2"
  }
 },
 "nbformat": 4,
 "nbformat_minor": 5
}
